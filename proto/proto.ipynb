{
 "cells": [
  {
   "cell_type": "code",
   "execution_count": 2,
   "metadata": {},
   "outputs": [
    {
     "name": "stdout",
     "output_type": "stream",
     "text": [
      "\u001b[32m\u001b[1mActivating\u001b[22m\u001b[39m environment at `~/JuliaEnvs/WrapperSimplification/Project.toml`\n"
     ]
    }
   ],
   "source": [
    "using Pkg: @pkg_str\n",
    "pkg\"activate ..\"\n"
   ]
  },
  {
   "cell_type": "code",
   "execution_count": 3,
   "metadata": {},
   "outputs": [],
   "source": [
    "using LinearAlgebra\n",
    "using DataStructures\n",
    "using Test"
   ]
  },
  {
   "cell_type": "code",
   "execution_count": 4,
   "metadata": {},
   "outputs": [
    {
     "data": {
      "text/plain": [
       "3×3 Array{Int64,2}:\n",
       " 11  12  13\n",
       " 21  22  23\n",
       " 31  32  33"
      ]
     },
     "execution_count": 4,
     "metadata": {},
     "output_type": "execute_result"
    }
   ],
   "source": [
    "x = [10a + b for a in 1:3, b in 1:3]"
   ]
  },
  {
   "cell_type": "code",
   "execution_count": null,
   "metadata": {},
   "outputs": [],
   "source": []
  },
  {
   "cell_type": "code",
   "execution_count": 22,
   "metadata": {},
   "outputs": [
    {
     "data": {
      "text/plain": [
       "(trule1, trule2)"
      ]
     },
     "execution_count": 22,
     "metadata": {},
     "output_type": "execute_result"
    }
   ],
   "source": [
    "# this is not a const, on purpose, we mutate it\n",
    "# but we always pass it in as an default argument to the function that uses it\n",
    "# thus causing that function to respecialize when it changes\n",
    "ALL_RULES = ()  \n",
    "\n",
    "\n",
    "trule1(::Any) = nothing\n",
    "function trule1(x::Transpose{V, Transpose{V, T}}) where {V, T}\n",
    "    #(score = 2, type=T, thunk=()::T->parent(parent(x)))\n",
    "    (state=parent(parent(x)), score=2)\n",
    "end\n",
    "ALL_RULES = (ALL_RULES..., trule1)\n",
    "\n",
    "trule2(::Any) = nothing\n",
    "function trule2(x::Transpose{V,Diagonal{V,T}}) where {V,T}\n",
    "    (state=parent(x), score=1)\n",
    "end\n",
    "ALL_RULES = (ALL_RULES..., trule2)"
   ]
  },
  {
   "cell_type": "code",
   "execution_count": 23,
   "metadata": {},
   "outputs": [
    {
     "data": {
      "text/plain": [
       "simplify (generic function with 2 methods)"
      ]
     },
     "execution_count": 23,
     "metadata": {},
     "output_type": "execute_result"
    }
   ],
   "source": [
    "function simplify(x, allrules=ALL_RULES; max_steps=10)\n",
    "    partial_solutions = PriorityQueue{Any, Int}(Base.Order.Reverse)\n",
    "    function pend!(x, score)\n",
    "        state = (typeof(x), x)\n",
    "        if !haskey(partial_solutions, state) \n",
    "            enqueue!(partial_solutions, state=>score)\n",
    "        end\n",
    "        return nothing\n",
    "    end\n",
    "    function next()\n",
    "        (type, val), score = peek(partial_solutions)\n",
    "        return val, score\n",
    "    end\n",
    "    \n",
    "    pend!(x, 0)\n",
    "    for _ in 1:max_steps\n",
    "        val, score = next()\n",
    "        for rule in allrules\n",
    "            res = rule(val)\n",
    "            res === nothing && continue\n",
    "            new_val, score_change = res\n",
    "            new_score = score + score_change\n",
    "            pend!(new_val, new_score)\n",
    "        end\n",
    "    end\n",
    "    return partial_solutions\n",
    "end"
   ]
  },
  {
   "cell_type": "code",
   "execution_count": 24,
   "metadata": {},
   "outputs": [
    {
     "data": {
      "text/plain": [
       "PriorityQueue{Any,Int64,Base.Order.ReverseOrdering{Base.Order.ForwardOrdering}} with 1 entry:\n",
       "  (Array{Int64,2}, [11 12 13; 21 22 23; 31 32 33]) => 0"
      ]
     },
     "execution_count": 24,
     "metadata": {},
     "output_type": "execute_result"
    }
   ],
   "source": [
    "simplify(x)"
   ]
  },
  {
   "cell_type": "code",
   "execution_count": 25,
   "metadata": {},
   "outputs": [
    {
     "data": {
      "text/plain": [
       "PriorityQueue{Any,Int64,Base.Order.ReverseOrdering{Base.Order.ForwardOrdering}} with 2 entries:\n",
       "  (Array{Int64,2}, [11 12 13; 21 22 23; 31 32 33])                          => 2\n",
       "  (Transpose{Int64,Transpose{Int64,Array{Int64,2}}}, [11 12 13; 21 22 23; … => 0"
      ]
     },
     "execution_count": 25,
     "metadata": {},
     "output_type": "execute_result"
    }
   ],
   "source": [
    "ttx = Transpose(Transpose(x))\n",
    "simplify(ttx)"
   ]
  },
  {
   "cell_type": "code",
   "execution_count": 26,
   "metadata": {},
   "outputs": [
    {
     "data": {
      "text/plain": [
       "PriorityQueue{Any,Int64,Base.Order.ReverseOrdering{Base.Order.ForwardOrdering}} with 2 entries:\n",
       "  (Diagonal{Int64,Array{Int64,1}}, [11 0 0; 0 22 0; 0 0 33])                => 1\n",
       "  (Transpose{Int64,Diagonal{Int64,Array{Int64,1}}}, [11 0 0; 0 22 0; 0 0 3… => 0"
      ]
     },
     "execution_count": 26,
     "metadata": {},
     "output_type": "execute_result"
    }
   ],
   "source": [
    "simplify(Transpose(Diagonal(x)))"
   ]
  },
  {
   "cell_type": "code",
   "execution_count": 28,
   "metadata": {},
   "outputs": [
    {
     "data": {
      "text/plain": [
       "PriorityQueue{Any,Int64,Base.Order.ReverseOrdering{Base.Order.ForwardOrdering}} with 2 entries:\n",
       "  (Diagonal{Int64,Array{Int64,1}}, [11 0 0; 0 22 0; 0 0 33])                => 2\n",
       "  (Transpose{Int64,Transpose{Int64,Diagonal{Int64,Array{Int64,1}}}}, [11 0… => 0"
      ]
     },
     "execution_count": 28,
     "metadata": {},
     "output_type": "execute_result"
    }
   ],
   "source": [
    "simplify(Transpose(Transpose(Diagonal(x))))"
   ]
  },
  {
   "cell_type": "code",
   "execution_count": 29,
   "metadata": {},
   "outputs": [
    {
     "data": {
      "text/plain": [
       "3×3 Symmetric{Int64,Transpose{Int64,Array{Int64,2}}}:\n",
       " 11  21  31\n",
       " 21  22  32\n",
       " 31  32  33"
      ]
     },
     "execution_count": 29,
     "metadata": {},
     "output_type": "execute_result"
    }
   ],
   "source": [
    "Symmetric(Transpose(x))"
   ]
  },
  {
   "cell_type": "code",
   "execution_count": 31,
   "metadata": {},
   "outputs": [
    {
     "data": {
      "text/plain": [
       "3×3 Transpose{Int64,Symmetric{Int64,Array{Int64,2}}}:\n",
       " 11  12  13\n",
       " 12  22  23\n",
       " 13  23  33"
      ]
     },
     "execution_count": 31,
     "metadata": {},
     "output_type": "execute_result"
    }
   ],
   "source": [
    "Transpose(Symmetric(x))"
   ]
  },
  {
   "cell_type": "code",
   "execution_count": 32,
   "metadata": {},
   "outputs": [
    {
     "data": {
      "text/plain": [
       "3×3 Transpose{Int64,Symmetric{Int64,Transpose{Int64,Array{Int64,2}}}}:\n",
       " 11  21  31\n",
       " 21  22  32\n",
       " 31  32  33"
      ]
     },
     "execution_count": 32,
     "metadata": {},
     "output_type": "execute_result"
    }
   ],
   "source": [
    "Transpose(Symmetric(Transpose(x)))"
   ]
  },
  {
   "cell_type": "code",
   "execution_count": 34,
   "metadata": {},
   "outputs": [
    {
     "data": {
      "text/plain": [
       "3×3 Symmetric{Int64,Array{Int64,2}}:\n",
       " 11  12  13\n",
       " 12  22  23\n",
       " 13  23  33"
      ]
     },
     "execution_count": 34,
     "metadata": {},
     "output_type": "execute_result"
    }
   ],
   "source": []
  },
  {
   "cell_type": "code",
   "execution_count": null,
   "metadata": {},
   "outputs": [],
   "source": []
  }
 ],
 "metadata": {
  "kernelspec": {
   "display_name": "Julia 1.3.0-DEV",
   "language": "julia",
   "name": "julia-1.3"
  },
  "language_info": {
   "file_extension": ".jl",
   "mimetype": "application/julia",
   "name": "julia",
   "version": "1.3.0"
  }
 },
 "nbformat": 4,
 "nbformat_minor": 2
}
